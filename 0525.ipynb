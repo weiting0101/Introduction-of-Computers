{
  "nbformat": 4,
  "nbformat_minor": 0,
  "metadata": {
    "colab": {
      "name": "0525.ipynb",
      "provenance": [],
      "authorship_tag": "ABX9TyMQsw17l24PvLgngZctY+aX",
      "include_colab_link": true
    },
    "kernelspec": {
      "name": "python3",
      "display_name": "Python 3"
    },
    "language_info": {
      "name": "python"
    }
  },
  "cells": [
    {
      "cell_type": "markdown",
      "metadata": {
        "id": "view-in-github",
        "colab_type": "text"
      },
      "source": [
        "<a href=\"https://colab.research.google.com/github/weiting0101/Introduction-of-Computers/blob/main/0525.ipynb\" target=\"_parent\"><img src=\"https://colab.research.google.com/assets/colab-badge.svg\" alt=\"Open In Colab\"/></a>"
      ]
    },
    {
      "cell_type": "code",
      "execution_count": 1,
      "metadata": {
        "colab": {
          "base_uri": "https://localhost:8080/"
        },
        "id": "WXTZrTwZu-p-",
        "outputId": "d28cb868-844f-4cd0-cd20-96230809cb05"
      },
      "outputs": [
        {
          "output_type": "stream",
          "name": "stdout",
          "text": [
            "test\n"
          ]
        }
      ],
      "source": [
        "print(\"test\")"
      ]
    },
    {
      "cell_type": "code",
      "source": [
        "sum = 0\n",
        "test = int(input(\"請輸入一個正整數: \"))\n",
        "for n in range(1, test+1):\n",
        "  sum = sum+n\n",
        "print(\"1到\",test,\"的整數和為\",sum)"
      ],
      "metadata": {
        "colab": {
          "base_uri": "https://localhost:8080/"
        },
        "id": "hSgRujqpwJyj",
        "outputId": "925d0d55-657d-458a-eeec-115cef13177f"
      },
      "execution_count": 2,
      "outputs": [
        {
          "output_type": "stream",
          "name": "stdout",
          "text": [
            "請輸入一個正整數: 50\n",
            "1到 50 的整數和為 1275\n"
          ]
        }
      ]
    },
    {
      "cell_type": "code",
      "source": [
        "sum = 0\n",
        "test = int(input(\"請輸入一個正整數: \"))\n",
        "for m in range(1, test+1 ):\n",
        "  sum = sum+m\n",
        "  print(\"1到\",test,\"的整數和為\",sum)\n",
        "  "
      ],
      "metadata": {
        "colab": {
          "base_uri": "https://localhost:8080/"
        },
        "id": "zq8-3egbwRg-",
        "outputId": "b8f2a7ef-5970-4229-e4be-67f37115040b"
      },
      "execution_count": 3,
      "outputs": [
        {
          "output_type": "stream",
          "name": "stdout",
          "text": [
            "請輸入一個正整數: 50\n",
            "1到 50 的整數和為 1\n",
            "1到 50 的整數和為 3\n",
            "1到 50 的整數和為 6\n",
            "1到 50 的整數和為 10\n",
            "1到 50 的整數和為 15\n",
            "1到 50 的整數和為 21\n",
            "1到 50 的整數和為 28\n",
            "1到 50 的整數和為 36\n",
            "1到 50 的整數和為 45\n",
            "1到 50 的整數和為 55\n",
            "1到 50 的整數和為 66\n",
            "1到 50 的整數和為 78\n",
            "1到 50 的整數和為 91\n",
            "1到 50 的整數和為 105\n",
            "1到 50 的整數和為 120\n",
            "1到 50 的整數和為 136\n",
            "1到 50 的整數和為 153\n",
            "1到 50 的整數和為 171\n",
            "1到 50 的整數和為 190\n",
            "1到 50 的整數和為 210\n",
            "1到 50 的整數和為 231\n",
            "1到 50 的整數和為 253\n",
            "1到 50 的整數和為 276\n",
            "1到 50 的整數和為 300\n",
            "1到 50 的整數和為 325\n",
            "1到 50 的整數和為 351\n",
            "1到 50 的整數和為 378\n",
            "1到 50 的整數和為 406\n",
            "1到 50 的整數和為 435\n",
            "1到 50 的整數和為 465\n",
            "1到 50 的整數和為 496\n",
            "1到 50 的整數和為 528\n",
            "1到 50 的整數和為 561\n",
            "1到 50 的整數和為 595\n",
            "1到 50 的整數和為 630\n",
            "1到 50 的整數和為 666\n",
            "1到 50 的整數和為 703\n",
            "1到 50 的整數和為 741\n",
            "1到 50 的整數和為 780\n",
            "1到 50 的整數和為 820\n",
            "1到 50 的整數和為 861\n",
            "1到 50 的整數和為 903\n",
            "1到 50 的整數和為 946\n",
            "1到 50 的整數和為 990\n",
            "1到 50 的整數和為 1035\n",
            "1到 50 的整數和為 1081\n",
            "1到 50 的整數和為 1128\n",
            "1到 50 的整數和為 1176\n",
            "1到 50 的整數和為 1225\n",
            "1到 50 的整數和為 1275\n"
          ]
        }
      ]
    },
    {
      "cell_type": "code",
      "source": [
        "for j in range(1,5):\n",
        "  print(j)\n",
        "  for i in range(1,3):\n",
        "    k = i*j\n",
        "    print(j,\"*\",i,\"m\",k)"
      ],
      "metadata": {
        "colab": {
          "base_uri": "https://localhost:8080/"
        },
        "id": "KWbMm8NuwV6p",
        "outputId": "795e820d-5d6f-4ebc-ff8e-ac0a77a05d76"
      },
      "execution_count": 4,
      "outputs": [
        {
          "output_type": "stream",
          "name": "stdout",
          "text": [
            "1\n",
            "1 * 1 m 1\n",
            "1 * 2 m 2\n",
            "2\n",
            "2 * 1 m 2\n",
            "2 * 2 m 4\n",
            "3\n",
            "3 * 1 m 3\n",
            "3 * 2 m 6\n",
            "4\n",
            "4 * 1 m 4\n",
            "4 * 2 m 8\n"
          ]
        }
      ]
    },
    {
      "cell_type": "code",
      "source": [
        "for i in range(1, 5):\n",
        "  if(i==3):\n",
        "    break\n",
        "  print(i, end = \" \")"
      ],
      "metadata": {
        "colab": {
          "base_uri": "https://localhost:8080/"
        },
        "id": "G1IVOlrawYhe",
        "outputId": "bce31bd6-ad6c-433f-dea2-49a052793a5e"
      },
      "execution_count": 5,
      "outputs": [
        {
          "output_type": "stream",
          "name": "stdout",
          "text": [
            "1 2 "
          ]
        }
      ]
    },
    {
      "cell_type": "code",
      "source": [
        "count = 0\n",
        "for string in 'hello!':\n",
        "  count+=1\n",
        "  if string == 'o':\n",
        "     break \n",
        "  print(string)\n",
        "print(\"迴圈結束\")\n",
        "print(\"迴圈執行了 &d 次\" &count)"
      ],
      "metadata": {
        "colab": {
          "base_uri": "https://localhost:8080/",
          "height": 289
        },
        "id": "9dHNjWBpwa9v",
        "outputId": "2234067f-56a7-4969-96aa-261da0a7cad6"
      },
      "execution_count": 6,
      "outputs": [
        {
          "output_type": "stream",
          "name": "stdout",
          "text": [
            "h\n",
            "e\n",
            "l\n",
            "l\n",
            "迴圈結束\n"
          ]
        },
        {
          "output_type": "error",
          "ename": "TypeError",
          "evalue": "ignored",
          "traceback": [
            "\u001b[0;31m---------------------------------------------------------------------------\u001b[0m",
            "\u001b[0;31mTypeError\u001b[0m                                 Traceback (most recent call last)",
            "\u001b[0;32m<ipython-input-6-77b256da4f7b>\u001b[0m in \u001b[0;36m<module>\u001b[0;34m()\u001b[0m\n\u001b[1;32m      6\u001b[0m   \u001b[0mprint\u001b[0m\u001b[0;34m(\u001b[0m\u001b[0mstring\u001b[0m\u001b[0;34m)\u001b[0m\u001b[0;34m\u001b[0m\u001b[0;34m\u001b[0m\u001b[0m\n\u001b[1;32m      7\u001b[0m \u001b[0mprint\u001b[0m\u001b[0;34m(\u001b[0m\u001b[0;34m\"迴圈結束\"\u001b[0m\u001b[0;34m)\u001b[0m\u001b[0;34m\u001b[0m\u001b[0;34m\u001b[0m\u001b[0m\n\u001b[0;32m----> 8\u001b[0;31m \u001b[0mprint\u001b[0m\u001b[0;34m(\u001b[0m\u001b[0;34m\"迴圈執行了 &d 次\"\u001b[0m \u001b[0;34m&\u001b[0m\u001b[0mcount\u001b[0m\u001b[0;34m)\u001b[0m\u001b[0;34m\u001b[0m\u001b[0;34m\u001b[0m\u001b[0m\n\u001b[0m",
            "\u001b[0;31mTypeError\u001b[0m: unsupported operand type(s) for &: 'str' and 'int'"
          ]
        }
      ]
    }
  ]
}