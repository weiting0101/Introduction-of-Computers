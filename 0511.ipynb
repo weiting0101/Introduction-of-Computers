{
  "nbformat": 4,
  "nbformat_minor": 0,
  "metadata": {
    "colab": {
      "name": "0511.ipynb",
      "provenance": [],
      "authorship_tag": "ABX9TyMvlkScK/jimvGodxKt3+JV",
      "include_colab_link": true
    },
    "kernelspec": {
      "name": "python3",
      "display_name": "Python 3"
    },
    "language_info": {
      "name": "python"
    }
  },
  "cells": [
    {
      "cell_type": "markdown",
      "metadata": {
        "id": "view-in-github",
        "colab_type": "text"
      },
      "source": [
        "<a href=\"https://colab.research.google.com/github/weiting0101/Introduction-of-Computers/blob/main/0511.ipynb\" target=\"_parent\"><img src=\"https://colab.research.google.com/assets/colab-badge.svg\" alt=\"Open In Colab\"/></a>"
      ]
    },
    {
      "cell_type": "code",
      "execution_count": 1,
      "metadata": {
        "colab": {
          "base_uri": "https://localhost:8080/"
        },
        "id": "0Ss7TnZDm8xc",
        "outputId": "a1702b0b-ef3e-4773-aeb9-fe6d6d98f7c0"
      },
      "outputs": [
        {
          "output_type": "stream",
          "name": "stdout",
          "text": [
            "test\n"
          ]
        }
      ],
      "source": [
        "print(\"test\")"
      ]
    },
    {
      "cell_type": "code",
      "source": [
        "temp = float(input(\"請輸入你的體溫\"))\n",
        "if temp >=37.5:\n",
        "  print(\"體溫過高! \") \n",
        "elif temp >=37 and temp < 37.4:\n",
        "  print(\"體溫略高! \")\n",
        "elif temp >=34 and temp < 36.9:\n",
        "   print(\"體溫正常\")\n",
        "else:\n",
        "  print(\"體溫異常,請重新量測!\")"
      ],
      "metadata": {
        "colab": {
          "base_uri": "https://localhost:8080/"
        },
        "id": "AD-OO8mYnIgJ",
        "outputId": "85fb8d4b-3621-4d7d-ef58-8a6c33268c80"
      },
      "execution_count": 11,
      "outputs": [
        {
          "output_type": "stream",
          "name": "stdout",
          "text": [
            "請輸入你的體溫37.5\n",
            "體溫過高! \n"
          ]
        }
      ]
    },
    {
      "cell_type": "code",
      "source": [
        "money = int(input(\"請輸入購物金額:\"))\n",
        "if(money >=10000):\n",
        "  if(money>=100000):\n",
        "    print(\"八折\", money * 0.8, end = \"元\\n\") \n",
        "  elif(money>=50000):\n",
        "    print(\"八五折\",money * 0.85, end = \"元\\n\")\n",
        "  elif(money>=30000):\n",
        "    print(\"九折\",money * 0.9, end = \"元\\n\")\n",
        "  else:\n",
        "    print(\"九五折\",money * 0.95. end - \"元\\n\")  \n",
        "else:\n",
        "  print(\"沒打折\", money, end=\"元\\n\")    "
      ],
      "metadata": {
        "colab": {
          "base_uri": "https://localhost:8080/"
        },
        "id": "j4vJqWjoq-W8",
        "outputId": "8c66e3a0-a6d4-4831-87e1-92d21931a5d5"
      },
      "execution_count": 23,
      "outputs": [
        {
          "output_type": "stream",
          "name": "stdout",
          "text": [
            "請輸入購物金額:50000\n",
            "八五折 42500.0元\n"
          ]
        }
      ]
    }
  ]
}